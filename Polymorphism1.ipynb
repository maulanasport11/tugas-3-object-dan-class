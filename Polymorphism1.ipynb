{
  "nbformat": 4,
  "nbformat_minor": 0,
  "metadata": {
    "colab": {
      "provenance": [],
      "authorship_tag": "ABX9TyPESvfUTQeooE2w39t+ittp",
      "include_colab_link": true
    },
    "kernelspec": {
      "name": "python3",
      "display_name": "Python 3"
    },
    "language_info": {
      "name": "python"
    }
  },
  "cells": [
    {
      "cell_type": "markdown",
      "metadata": {
        "id": "view-in-github",
        "colab_type": "text"
      },
      "source": [
        "<a href=\"https://colab.research.google.com/github/maulanasport11/tugas-3-object-dan-class/blob/main/Polymorphism1.ipynb\" target=\"_parent\"><img src=\"https://colab.research.google.com/assets/colab-badge.svg\" alt=\"Open In Colab\"/></a>"
      ]
    },
    {
      "cell_type": "code",
      "execution_count": 2,
      "metadata": {
        "colab": {
          "base_uri": "https://localhost:8080/"
        },
        "id": "Tw-h-fCr-yNR",
        "outputId": "19cc09eb-048e-4082-823b-9b9aada28783"
      },
      "outputs": [
        {
          "output_type": "stream",
          "name": "stdout",
          "text": [
            "Rectangle (4 x 5) → Area: 20\n",
            "Circle (radius = 3) → Area: 28.274333882308138\n",
            "Triangle (base = 6, height = 4) → Area: 12.0\n",
            "This is a generic shape. → Area: Undefined\n"
          ]
        }
      ],
      "source": [
        "import math\n",
        "\n",
        "# Base class\n",
        "class Shape:\n",
        "    def area(self):\n",
        "        return \"Undefined\"\n",
        "\n",
        "    def __str__(self):\n",
        "        return \"This is a generic shape.\"\n",
        "\n",
        "\n",
        "# Rectangle class\n",
        "class Rectangle(Shape):\n",
        "    def __init__(self, length, width):\n",
        "        self.length = length\n",
        "        self.width = width\n",
        "\n",
        "    def area(self):\n",
        "        return self.length * self.width\n",
        "\n",
        "    def __str__(self):\n",
        "        return f\"Rectangle ({self.length} x {self.width})\"\n",
        "\n",
        "\n",
        "# Circle class\n",
        "class Circle(Shape):\n",
        "    def __init__(self, radius):\n",
        "        self.radius = radius\n",
        "\n",
        "    def area(self):\n",
        "        return math.pi * self.radius ** 2\n",
        "\n",
        "    def __str__(self):\n",
        "        return f\"Circle (radius = {self.radius})\"\n",
        "\n",
        "\n",
        "# Triangle class (baru)\n",
        "class Triangle(Shape):\n",
        "    def __init__(self, base, height):\n",
        "        self.base = base\n",
        "        self.height = height\n",
        "\n",
        "    def area(self):\n",
        "        return 0.5 * self.base * self.height\n",
        "\n",
        "    def __str__(self):\n",
        "        return f\"Triangle (base = {self.base}, height = {self.height})\"\n",
        "\n",
        "\n",
        "# List of shapes\n",
        "shapes = [\n",
        "    Rectangle(4, 5),\n",
        "    Circle(3),\n",
        "    Triangle(6, 4),\n",
        "    Shape()  # contoh penggunaan default\n",
        "]\n",
        "\n",
        "# Cetak hasil\n",
        "for shape in shapes:\n",
        "    print(f\"{shape} → Area: {shape.area()}\")\n"
      ]
    }
  ]
}