{
  "nbformat": 4,
  "nbformat_minor": 0,
  "metadata": {
    "colab": {
      "provenance": [],
      "authorship_tag": "ABX9TyPiJbY6YOLuVJuRLP1APLjd",
      "include_colab_link": true
    },
    "kernelspec": {
      "name": "python3",
      "display_name": "Python 3"
    },
    "language_info": {
      "name": "python"
    }
  },
  "cells": [
    {
      "cell_type": "markdown",
      "metadata": {
        "id": "view-in-github",
        "colab_type": "text"
      },
      "source": [
        "<a href=\"https://colab.research.google.com/github/maulanasport11/tugas-3-object-dan-class/blob/main/Pewarisan2.ipynb\" target=\"_parent\"><img src=\"https://colab.research.google.com/assets/colab-badge.svg\" alt=\"Open In Colab\"/></a>"
      ]
    },
    {
      "cell_type": "code",
      "execution_count": 1,
      "metadata": {
        "colab": {
          "base_uri": "https://localhost:8080/"
        },
        "id": "Tw-h-fCr-yNR",
        "outputId": "9df86f4a-40f4-4c0b-c180-3d9e4ab96e0c"
      },
      "outputs": [
        {
          "output_type": "stream",
          "name": "stdout",
          "text": [
            "2022 Toyota Camry\n",
            "Doors: 4, Wheels: 4\n",
            "Car Toyota Camry with 4 doors is starting...\n",
            "Toyota Camry goes: Beep Beep!\n",
            "Toyota Camry is stopping...\n",
            "\n",
            "\n",
            "2021 Yamaha NMAX\n",
            "Wheels: 2\n",
            "Bike Yamaha NMAX is roaring to life...\n",
            "Yamaha NMAX goes: Beep Beep!\n",
            "Yamaha NMAX is stopping...\n"
          ]
        }
      ],
      "source": [
        "# Base class\n",
        "class Vehicle:\n",
        "    def __init__(self, brand, model, year):\n",
        "        self.brand = brand\n",
        "        self.model = model\n",
        "        self.year = year\n",
        "\n",
        "    def start(self):\n",
        "        print(f\"{self.brand} {self.model} is starting...\")\n",
        "\n",
        "    def stop(self):\n",
        "        print(f\"{self.brand} {self.model} is stopping...\")\n",
        "\n",
        "    def honk(self):\n",
        "        print(f\"{self.brand} {self.model} goes: Beep Beep!\")\n",
        "\n",
        "    def display_info(self):\n",
        "        print(f\"{self.year} {self.brand} {self.model}\")\n",
        "\n",
        "\n",
        "# Subclass Car\n",
        "class Car(Vehicle):\n",
        "    def __init__(self, brand, model, year, number_of_doors, number_of_wheels):\n",
        "        super().__init__(brand, model, year)\n",
        "        self.number_of_doors = number_of_doors\n",
        "        self.number_of_wheels = number_of_wheels\n",
        "\n",
        "    def start(self):\n",
        "        print(f\"Car {self.brand} {self.model} with {self.number_of_doors} doors is starting...\")\n",
        "\n",
        "    def display_info(self):\n",
        "        super().display_info()\n",
        "        print(f\"Doors: {self.number_of_doors}, Wheels: {self.number_of_wheels}\")\n",
        "\n",
        "\n",
        "# Subclass Bike\n",
        "class Bike(Vehicle):\n",
        "    def __init__(self, brand, model, year, number_of_wheels):\n",
        "        super().__init__(brand, model, year)\n",
        "        self.number_of_wheels = number_of_wheels\n",
        "\n",
        "    def start(self):\n",
        "        print(f\"Bike {self.brand} {self.model} is roaring to life...\")\n",
        "\n",
        "    def display_info(self):\n",
        "        super().display_info()\n",
        "        print(f\"Wheels: {self.number_of_wheels}\")\n",
        "\n",
        "\n",
        "# Create objects\n",
        "car = Car(\"Toyota\", \"Camry\", 2022, 4, 4)\n",
        "bike = Bike(\"Yamaha\", \"NMAX\", 2021, 2)\n",
        "\n",
        "# Use the methods\n",
        "car.display_info()\n",
        "car.start()\n",
        "car.honk()\n",
        "car.stop()\n",
        "\n",
        "print(\"\\n\")\n",
        "\n",
        "bike.display_info()\n",
        "bike.start()\n",
        "bike.honk()\n",
        "bike.stop()\n",
        "\n"
      ]
    }
  ]
}